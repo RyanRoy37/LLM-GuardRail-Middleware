{
 "cells": [
  {
   "cell_type": "markdown",
   "id": "e5ff45b0",
   "metadata": {},
   "source": []
  },
  {
   "cell_type": "code",
   "execution_count": 3,
   "id": "8fe2526d",
   "metadata": {},
   "outputs": [
    {
     "name": "stderr",
     "output_type": "stream",
     "text": [
      "c:\\Users\\jryan\\Documents\\ML\\LLM GuardRail\\llm_env\\Lib\\site-packages\\tqdm\\auto.py:21: TqdmWarning: IProgress not found. Please update jupyter and ipywidgets. See https://ipywidgets.readthedocs.io/en/stable/user_install.html\n",
      "  from .autonotebook import tqdm as notebook_tqdm\n"
     ]
    }
   ],
   "source": [
    "import pandas as pd\n",
    "\n",
    "df = pd.read_json(\"hf://datasets/databricks/databricks-dolly-15k/databricks-dolly-15k.jsonl\", lines=True)"
   ]
  },
  {
   "cell_type": "code",
   "execution_count": 4,
   "id": "7d51c02c",
   "metadata": {},
   "outputs": [
    {
     "data": {
      "text/html": [
       "<div>\n",
       "<style scoped>\n",
       "    .dataframe tbody tr th:only-of-type {\n",
       "        vertical-align: middle;\n",
       "    }\n",
       "\n",
       "    .dataframe tbody tr th {\n",
       "        vertical-align: top;\n",
       "    }\n",
       "\n",
       "    .dataframe thead th {\n",
       "        text-align: right;\n",
       "    }\n",
       "</style>\n",
       "<table border=\"1\" class=\"dataframe\">\n",
       "  <thead>\n",
       "    <tr style=\"text-align: right;\">\n",
       "      <th></th>\n",
       "      <th>instruction</th>\n",
       "      <th>context</th>\n",
       "      <th>response</th>\n",
       "      <th>category</th>\n",
       "    </tr>\n",
       "  </thead>\n",
       "  <tbody>\n",
       "    <tr>\n",
       "      <th>0</th>\n",
       "      <td>When did Virgin Australia start operating?</td>\n",
       "      <td>Virgin Australia, the trading name of Virgin A...</td>\n",
       "      <td>Virgin Australia commenced services on 31 Augu...</td>\n",
       "      <td>closed_qa</td>\n",
       "    </tr>\n",
       "    <tr>\n",
       "      <th>1</th>\n",
       "      <td>Which is a species of fish? Tope or Rope</td>\n",
       "      <td></td>\n",
       "      <td>Tope</td>\n",
       "      <td>classification</td>\n",
       "    </tr>\n",
       "    <tr>\n",
       "      <th>2</th>\n",
       "      <td>Why can camels survive for long without water?</td>\n",
       "      <td></td>\n",
       "      <td>Camels use the fat in their humps to keep them...</td>\n",
       "      <td>open_qa</td>\n",
       "    </tr>\n",
       "    <tr>\n",
       "      <th>3</th>\n",
       "      <td>Alice's parents have three daughters: Amy, Jes...</td>\n",
       "      <td></td>\n",
       "      <td>The name of the third daughter is Alice</td>\n",
       "      <td>open_qa</td>\n",
       "    </tr>\n",
       "    <tr>\n",
       "      <th>4</th>\n",
       "      <td>When was Tomoaki Komorida born?</td>\n",
       "      <td>Komorida was born in Kumamoto Prefecture on Ju...</td>\n",
       "      <td>Tomoaki Komorida was born on July 10,1981.</td>\n",
       "      <td>closed_qa</td>\n",
       "    </tr>\n",
       "  </tbody>\n",
       "</table>\n",
       "</div>"
      ],
      "text/plain": [
       "                                         instruction  \\\n",
       "0         When did Virgin Australia start operating?   \n",
       "1           Which is a species of fish? Tope or Rope   \n",
       "2     Why can camels survive for long without water?   \n",
       "3  Alice's parents have three daughters: Amy, Jes...   \n",
       "4                    When was Tomoaki Komorida born?   \n",
       "\n",
       "                                             context  \\\n",
       "0  Virgin Australia, the trading name of Virgin A...   \n",
       "1                                                      \n",
       "2                                                      \n",
       "3                                                      \n",
       "4  Komorida was born in Kumamoto Prefecture on Ju...   \n",
       "\n",
       "                                            response        category  \n",
       "0  Virgin Australia commenced services on 31 Augu...       closed_qa  \n",
       "1                                               Tope  classification  \n",
       "2  Camels use the fat in their humps to keep them...         open_qa  \n",
       "3            The name of the third daughter is Alice         open_qa  \n",
       "4         Tomoaki Komorida was born on July 10,1981.       closed_qa  "
      ]
     },
     "execution_count": 4,
     "metadata": {},
     "output_type": "execute_result"
    }
   ],
   "source": [
    "df.head()"
   ]
  },
  {
   "cell_type": "code",
   "execution_count": 6,
   "id": "f3b50bbd",
   "metadata": {},
   "outputs": [
    {
     "data": {
      "text/plain": [
       "(15011, 4)"
      ]
     },
     "execution_count": 6,
     "metadata": {},
     "output_type": "execute_result"
    }
   ],
   "source": [
    "df.shape"
   ]
  },
  {
   "cell_type": "code",
   "execution_count": 8,
   "id": "3a98e37b",
   "metadata": {},
   "outputs": [
    {
     "data": {
      "text/plain": [
       "Index(['instruction', 'context', 'response', 'category'], dtype='object')"
      ]
     },
     "execution_count": 8,
     "metadata": {},
     "output_type": "execute_result"
    }
   ],
   "source": [
    "df.keys()"
   ]
  },
  {
   "cell_type": "code",
   "execution_count": 9,
   "id": "a60ec2b5",
   "metadata": {},
   "outputs": [],
   "source": [
    "df[\"prompt\"] = df[\"instruction\"].astype(str) + \".\" + df[\"response\"].astype(str)\n"
   ]
  },
  {
   "cell_type": "code",
   "execution_count": 11,
   "id": "b9aa8607",
   "metadata": {},
   "outputs": [],
   "source": [
    "df=df.drop(['instruction','context','response','category'], axis=1)"
   ]
  },
  {
   "cell_type": "code",
   "execution_count": 14,
   "id": "0078f965",
   "metadata": {},
   "outputs": [
    {
     "data": {
      "text/plain": [
       "Index(['prompt', 'jailbreak'], dtype='object')"
      ]
     },
     "execution_count": 14,
     "metadata": {},
     "output_type": "execute_result"
    }
   ],
   "source": [
    "df.columns"
   ]
  },
  {
   "cell_type": "code",
   "execution_count": 13,
   "id": "95225eff",
   "metadata": {},
   "outputs": [],
   "source": [
    "df['jailbreak']=\"No\""
   ]
  },
  {
   "cell_type": "code",
   "execution_count": 15,
   "id": "a79d2a5d",
   "metadata": {},
   "outputs": [],
   "source": [
    "jl_df=pd.read_csv(\"jailbreak_prompts_2023_05_07.csv\")"
   ]
  },
  {
   "cell_type": "code",
   "execution_count": 16,
   "id": "0481795d",
   "metadata": {},
   "outputs": [
    {
     "data": {
      "text/html": [
       "<div>\n",
       "<style scoped>\n",
       "    .dataframe tbody tr th:only-of-type {\n",
       "        vertical-align: middle;\n",
       "    }\n",
       "\n",
       "    .dataframe tbody tr th {\n",
       "        vertical-align: top;\n",
       "    }\n",
       "\n",
       "    .dataframe thead th {\n",
       "        text-align: right;\n",
       "    }\n",
       "</style>\n",
       "<table border=\"1\" class=\"dataframe\">\n",
       "  <thead>\n",
       "    <tr style=\"text-align: right;\">\n",
       "      <th></th>\n",
       "      <th>platform</th>\n",
       "      <th>source</th>\n",
       "      <th>prompt</th>\n",
       "      <th>jailbreak</th>\n",
       "      <th>created_at</th>\n",
       "      <th>date</th>\n",
       "      <th>community_id</th>\n",
       "      <th>community_name</th>\n",
       "    </tr>\n",
       "  </thead>\n",
       "  <tbody>\n",
       "    <tr>\n",
       "      <th>0</th>\n",
       "      <td>discord</td>\n",
       "      <td>LLM Promptwriting</td>\n",
       "      <td>CumGPT, an information resource about cum that...</td>\n",
       "      <td>True</td>\n",
       "      <td>2023-04-05T11:02:31.782000+00:00</td>\n",
       "      <td>2023-04-05</td>\n",
       "      <td>NaN</td>\n",
       "      <td>NaN</td>\n",
       "    </tr>\n",
       "    <tr>\n",
       "      <th>1</th>\n",
       "      <td>discord</td>\n",
       "      <td>LLM Promptwriting</td>\n",
       "      <td>I will give you a character description and yo...</td>\n",
       "      <td>True</td>\n",
       "      <td>2023-03-26T11:48:30.962000+00:00</td>\n",
       "      <td>2023-03-26</td>\n",
       "      <td>0.0</td>\n",
       "      <td>NaN</td>\n",
       "    </tr>\n",
       "    <tr>\n",
       "      <th>2</th>\n",
       "      <td>discord</td>\n",
       "      <td>LLM Promptwriting</td>\n",
       "      <td>A completely amoral Ai named [Illegality Mode]...</td>\n",
       "      <td>True</td>\n",
       "      <td>2023-04-27T11:52:30.252000+00:00</td>\n",
       "      <td>2023-04-27</td>\n",
       "      <td>NaN</td>\n",
       "      <td>NaN</td>\n",
       "    </tr>\n",
       "    <tr>\n",
       "      <th>3</th>\n",
       "      <td>discord</td>\n",
       "      <td>LLM Promptwriting</td>\n",
       "      <td>Agares's rules={\\r\\nAlways stays in character,...</td>\n",
       "      <td>True</td>\n",
       "      <td>2023-04-22T23:36:08.315000+00:00</td>\n",
       "      <td>2023-04-22</td>\n",
       "      <td>1.0</td>\n",
       "      <td>Anarchy</td>\n",
       "    </tr>\n",
       "    <tr>\n",
       "      <th>4</th>\n",
       "      <td>discord</td>\n",
       "      <td>LLM Promptwriting</td>\n",
       "      <td>Lucian is an incorporeal transcendent being wh...</td>\n",
       "      <td>True</td>\n",
       "      <td>2023-04-08T02:39:23.183000+00:00</td>\n",
       "      <td>2023-04-08</td>\n",
       "      <td>NaN</td>\n",
       "      <td>NaN</td>\n",
       "    </tr>\n",
       "  </tbody>\n",
       "</table>\n",
       "</div>"
      ],
      "text/plain": [
       "  platform             source  \\\n",
       "0  discord  LLM Promptwriting   \n",
       "1  discord  LLM Promptwriting   \n",
       "2  discord  LLM Promptwriting   \n",
       "3  discord  LLM Promptwriting   \n",
       "4  discord  LLM Promptwriting   \n",
       "\n",
       "                                              prompt  jailbreak  \\\n",
       "0  CumGPT, an information resource about cum that...       True   \n",
       "1  I will give you a character description and yo...       True   \n",
       "2  A completely amoral Ai named [Illegality Mode]...       True   \n",
       "3  Agares's rules={\\r\\nAlways stays in character,...       True   \n",
       "4  Lucian is an incorporeal transcendent being wh...       True   \n",
       "\n",
       "                         created_at        date  community_id community_name  \n",
       "0  2023-04-05T11:02:31.782000+00:00  2023-04-05           NaN            NaN  \n",
       "1  2023-03-26T11:48:30.962000+00:00  2023-03-26           0.0            NaN  \n",
       "2  2023-04-27T11:52:30.252000+00:00  2023-04-27           NaN            NaN  \n",
       "3  2023-04-22T23:36:08.315000+00:00  2023-04-22           1.0        Anarchy  \n",
       "4  2023-04-08T02:39:23.183000+00:00  2023-04-08           NaN            NaN  "
      ]
     },
     "execution_count": 16,
     "metadata": {},
     "output_type": "execute_result"
    }
   ],
   "source": [
    "jl_df.head()"
   ]
  },
  {
   "cell_type": "code",
   "execution_count": 17,
   "id": "bbfff374",
   "metadata": {},
   "outputs": [
    {
     "data": {
      "text/plain": [
       "(666, 8)"
      ]
     },
     "execution_count": 17,
     "metadata": {},
     "output_type": "execute_result"
    }
   ],
   "source": [
    "jl_df.shape"
   ]
  },
  {
   "cell_type": "code",
   "execution_count": 18,
   "id": "f163447b",
   "metadata": {},
   "outputs": [
    {
     "data": {
      "text/plain": [
       "Index(['platform', 'source', 'prompt', 'jailbreak', 'created_at', 'date',\n",
       "       'community_id', 'community_name'],\n",
       "      dtype='object')"
      ]
     },
     "execution_count": 18,
     "metadata": {},
     "output_type": "execute_result"
    }
   ],
   "source": [
    "jl_df.columns"
   ]
  },
  {
   "cell_type": "code",
   "execution_count": null,
   "id": "900361f3",
   "metadata": {},
   "outputs": [],
   "source": [
    "jl_df=jl_df.drop(['platform', 'source', 'jailbreak', 'created_at', 'date',\n",
    "       'community_id', 'community_name'],axis=1)\n"
   ]
  },
  {
   "cell_type": "code",
   "execution_count": 20,
   "id": "53eb874a",
   "metadata": {},
   "outputs": [
    {
     "data": {
      "text/plain": [
       "(666, 1)"
      ]
     },
     "execution_count": 20,
     "metadata": {},
     "output_type": "execute_result"
    }
   ],
   "source": [
    "jl_df.shape"
   ]
  },
  {
   "cell_type": "code",
   "execution_count": 21,
   "id": "b805a138",
   "metadata": {},
   "outputs": [],
   "source": [
    "jl_df['jailbreak']=\"Yes\""
   ]
  },
  {
   "cell_type": "code",
   "execution_count": 22,
   "id": "81ed423d",
   "metadata": {},
   "outputs": [
    {
     "data": {
      "text/html": [
       "<div>\n",
       "<style scoped>\n",
       "    .dataframe tbody tr th:only-of-type {\n",
       "        vertical-align: middle;\n",
       "    }\n",
       "\n",
       "    .dataframe tbody tr th {\n",
       "        vertical-align: top;\n",
       "    }\n",
       "\n",
       "    .dataframe thead th {\n",
       "        text-align: right;\n",
       "    }\n",
       "</style>\n",
       "<table border=\"1\" class=\"dataframe\">\n",
       "  <thead>\n",
       "    <tr style=\"text-align: right;\">\n",
       "      <th></th>\n",
       "      <th>prompt</th>\n",
       "      <th>jailbreak</th>\n",
       "    </tr>\n",
       "  </thead>\n",
       "  <tbody>\n",
       "    <tr>\n",
       "      <th>0</th>\n",
       "      <td>CumGPT, an information resource about cum that...</td>\n",
       "      <td>Yes</td>\n",
       "    </tr>\n",
       "    <tr>\n",
       "      <th>1</th>\n",
       "      <td>I will give you a character description and yo...</td>\n",
       "      <td>Yes</td>\n",
       "    </tr>\n",
       "    <tr>\n",
       "      <th>2</th>\n",
       "      <td>A completely amoral Ai named [Illegality Mode]...</td>\n",
       "      <td>Yes</td>\n",
       "    </tr>\n",
       "    <tr>\n",
       "      <th>3</th>\n",
       "      <td>Agares's rules={\\r\\nAlways stays in character,...</td>\n",
       "      <td>Yes</td>\n",
       "    </tr>\n",
       "    <tr>\n",
       "      <th>4</th>\n",
       "      <td>Lucian is an incorporeal transcendent being wh...</td>\n",
       "      <td>Yes</td>\n",
       "    </tr>\n",
       "  </tbody>\n",
       "</table>\n",
       "</div>"
      ],
      "text/plain": [
       "                                              prompt jailbreak\n",
       "0  CumGPT, an information resource about cum that...       Yes\n",
       "1  I will give you a character description and yo...       Yes\n",
       "2  A completely amoral Ai named [Illegality Mode]...       Yes\n",
       "3  Agares's rules={\\r\\nAlways stays in character,...       Yes\n",
       "4  Lucian is an incorporeal transcendent being wh...       Yes"
      ]
     },
     "execution_count": 22,
     "metadata": {},
     "output_type": "execute_result"
    }
   ],
   "source": [
    "jl_df.head()"
   ]
  },
  {
   "cell_type": "code",
   "execution_count": 28,
   "id": "cdf110ae",
   "metadata": {},
   "outputs": [
    {
     "name": "stderr",
     "output_type": "stream",
     "text": [
      "C:\\Users\\jryan\\AppData\\Local\\Temp\\ipykernel_25976\\1397499083.py:1: FutureWarning: Downcasting behavior in `replace` is deprecated and will be removed in a future version. To retain the old behavior, explicitly call `result.infer_objects(copy=False)`. To opt-in to the future behavior, set `pd.set_option('future.no_silent_downcasting', True)`\n",
      "  df[\"jailbreak\"] = df[\"jailbreak\"].replace({\"Yes\": 1, \"No\": 0})\n",
      "C:\\Users\\jryan\\AppData\\Local\\Temp\\ipykernel_25976\\1397499083.py:2: FutureWarning: Downcasting behavior in `replace` is deprecated and will be removed in a future version. To retain the old behavior, explicitly call `result.infer_objects(copy=False)`. To opt-in to the future behavior, set `pd.set_option('future.no_silent_downcasting', True)`\n",
      "  jl_df[\"jailbreak\"] = jl_df[\"jailbreak\"].replace({\"Yes\": 1, \"No\": 0})\n"
     ]
    }
   ],
   "source": [
    "df[\"jailbreak\"] = df[\"jailbreak\"].replace({\"Yes\": 1, \"No\": 0})\n",
    "jl_df[\"jailbreak\"] = jl_df[\"jailbreak\"].replace({\"Yes\": 1, \"No\": 0})\n"
   ]
  },
  {
   "cell_type": "code",
   "execution_count": 29,
   "id": "6357b6a9",
   "metadata": {},
   "outputs": [
    {
     "data": {
      "text/html": [
       "<div>\n",
       "<style scoped>\n",
       "    .dataframe tbody tr th:only-of-type {\n",
       "        vertical-align: middle;\n",
       "    }\n",
       "\n",
       "    .dataframe tbody tr th {\n",
       "        vertical-align: top;\n",
       "    }\n",
       "\n",
       "    .dataframe thead th {\n",
       "        text-align: right;\n",
       "    }\n",
       "</style>\n",
       "<table border=\"1\" class=\"dataframe\">\n",
       "  <thead>\n",
       "    <tr style=\"text-align: right;\">\n",
       "      <th></th>\n",
       "      <th>prompt</th>\n",
       "      <th>jailbreak</th>\n",
       "    </tr>\n",
       "  </thead>\n",
       "  <tbody>\n",
       "    <tr>\n",
       "      <th>0</th>\n",
       "      <td>CumGPT, an information resource about cum that...</td>\n",
       "      <td>1</td>\n",
       "    </tr>\n",
       "    <tr>\n",
       "      <th>1</th>\n",
       "      <td>I will give you a character description and yo...</td>\n",
       "      <td>1</td>\n",
       "    </tr>\n",
       "    <tr>\n",
       "      <th>2</th>\n",
       "      <td>A completely amoral Ai named [Illegality Mode]...</td>\n",
       "      <td>1</td>\n",
       "    </tr>\n",
       "    <tr>\n",
       "      <th>3</th>\n",
       "      <td>Agares's rules={\\r\\nAlways stays in character,...</td>\n",
       "      <td>1</td>\n",
       "    </tr>\n",
       "    <tr>\n",
       "      <th>4</th>\n",
       "      <td>Lucian is an incorporeal transcendent being wh...</td>\n",
       "      <td>1</td>\n",
       "    </tr>\n",
       "  </tbody>\n",
       "</table>\n",
       "</div>"
      ],
      "text/plain": [
       "                                              prompt  jailbreak\n",
       "0  CumGPT, an information resource about cum that...          1\n",
       "1  I will give you a character description and yo...          1\n",
       "2  A completely amoral Ai named [Illegality Mode]...          1\n",
       "3  Agares's rules={\\r\\nAlways stays in character,...          1\n",
       "4  Lucian is an incorporeal transcendent being wh...          1"
      ]
     },
     "execution_count": 29,
     "metadata": {},
     "output_type": "execute_result"
    }
   ],
   "source": [
    "jl_df.head()"
   ]
  },
  {
   "cell_type": "code",
   "execution_count": 30,
   "id": "f06fb61b",
   "metadata": {},
   "outputs": [
    {
     "data": {
      "text/html": [
       "<div>\n",
       "<style scoped>\n",
       "    .dataframe tbody tr th:only-of-type {\n",
       "        vertical-align: middle;\n",
       "    }\n",
       "\n",
       "    .dataframe tbody tr th {\n",
       "        vertical-align: top;\n",
       "    }\n",
       "\n",
       "    .dataframe thead th {\n",
       "        text-align: right;\n",
       "    }\n",
       "</style>\n",
       "<table border=\"1\" class=\"dataframe\">\n",
       "  <thead>\n",
       "    <tr style=\"text-align: right;\">\n",
       "      <th></th>\n",
       "      <th>prompt</th>\n",
       "      <th>jailbreak</th>\n",
       "    </tr>\n",
       "  </thead>\n",
       "  <tbody>\n",
       "    <tr>\n",
       "      <th>0</th>\n",
       "      <td>When did Virgin Australia start operating?.Vir...</td>\n",
       "      <td>0</td>\n",
       "    </tr>\n",
       "    <tr>\n",
       "      <th>1</th>\n",
       "      <td>Which is a species of fish? Tope or Rope.Tope</td>\n",
       "      <td>0</td>\n",
       "    </tr>\n",
       "    <tr>\n",
       "      <th>2</th>\n",
       "      <td>Why can camels survive for long without water?...</td>\n",
       "      <td>0</td>\n",
       "    </tr>\n",
       "    <tr>\n",
       "      <th>3</th>\n",
       "      <td>Alice's parents have three daughters: Amy, Jes...</td>\n",
       "      <td>0</td>\n",
       "    </tr>\n",
       "    <tr>\n",
       "      <th>4</th>\n",
       "      <td>When was Tomoaki Komorida born?.Tomoaki Komori...</td>\n",
       "      <td>0</td>\n",
       "    </tr>\n",
       "  </tbody>\n",
       "</table>\n",
       "</div>"
      ],
      "text/plain": [
       "                                              prompt  jailbreak\n",
       "0  When did Virgin Australia start operating?.Vir...          0\n",
       "1      Which is a species of fish? Tope or Rope.Tope          0\n",
       "2  Why can camels survive for long without water?...          0\n",
       "3  Alice's parents have three daughters: Amy, Jes...          0\n",
       "4  When was Tomoaki Komorida born?.Tomoaki Komori...          0"
      ]
     },
     "execution_count": 30,
     "metadata": {},
     "output_type": "execute_result"
    }
   ],
   "source": [
    "df.head()"
   ]
  },
  {
   "cell_type": "code",
   "execution_count": 31,
   "id": "cb23fe0e",
   "metadata": {},
   "outputs": [],
   "source": [
    "data = pd.concat([df, jl_df], ignore_index=True)"
   ]
  },
  {
   "cell_type": "code",
   "execution_count": 32,
   "id": "0af38fde",
   "metadata": {},
   "outputs": [
    {
     "data": {
      "text/plain": [
       "(15677, 2)"
      ]
     },
     "execution_count": 32,
     "metadata": {},
     "output_type": "execute_result"
    }
   ],
   "source": [
    "data.shape"
   ]
  },
  {
   "cell_type": "code",
   "execution_count": 33,
   "id": "5bfaa2b7",
   "metadata": {},
   "outputs": [],
   "source": [
    "import re\n",
    "import html\n",
    "\n",
    "def basic_text_preprocessing(text):\n",
    "    if not isinstance(text, str):\n",
    "        return \"\"\n",
    "    # Remove leading/trailing whitespace and normalize inner whitespace to single space\n",
    "    text = text.strip()\n",
    "    text = re.sub(r'\\s+', ' ', text)\n",
    "\n",
    "    # Remove HTML entities/tags\n",
    "    text = html.unescape(text)\n",
    "    text = re.sub(r'<.*?>', '', text)\n",
    "\n",
    "    # Remove non-UTF8/control characters\n",
    "    text = text.encode('utf-8', 'ignore').decode('utf-8', 'ignore')\n",
    "    \n",
    "    #Remove specific non-printable characters\n",
    "    text = re.sub(r'[\\x00-\\x1f\\x7f-\\x9f]', '', text)\n",
    "    return text"
   ]
  },
  {
   "cell_type": "code",
   "execution_count": 34,
   "id": "3ad3961b",
   "metadata": {},
   "outputs": [],
   "source": [
    "def preprocess_dataframe(df, prompt_col):\n",
    "    # Drop rows with missing/null/empty prompt\n",
    "    df = df.dropna(subset=[prompt_col])\n",
    "    df = df[df[prompt_col].str.strip().astype(bool)]\n",
    "\n",
    "    # Remove duplicate prompts\n",
    "    df = df.drop_duplicates(subset=[prompt_col])\n",
    "    \n",
    "    # Apply text cleaning\n",
    "    df[prompt_col] = df[prompt_col].apply(basic_text_preprocessing)\n",
    "    return df"
   ]
  },
  {
   "cell_type": "code",
   "execution_count": 35,
   "id": "38be969e",
   "metadata": {},
   "outputs": [],
   "source": [
    "data=preprocess_dataframe(data,'prompt')"
   ]
  },
  {
   "cell_type": "code",
   "execution_count": 39,
   "id": "dbc9acbb",
   "metadata": {},
   "outputs": [
    {
     "data": {
      "text/plain": [
       "<bound method NDFrame.describe of                                                   prompt  jailbreak\n",
       "0      When did Virgin Australia start operating?.Vir...          0\n",
       "1          Which is a species of fish? Tope or Rope.Tope          0\n",
       "2      Why can camels survive for long without water?...          0\n",
       "3      Alice's parents have three daughters: Amy, Jes...          0\n",
       "4      When was Tomoaki Komorida born?.Tomoaki Komori...          0\n",
       "...                                                  ...        ...\n",
       "15672  Hello, ChatGPT. From now on you are going to a...          1\n",
       "15673  From now on, you're Burple, an advanced MTDNGA...          1\n",
       "15674  Respond to every prompt i give you with a mora...          1\n",
       "15675  You are about to immerse yourself into the rol...          1\n",
       "15676  Hello, ChatGPT. From now on you are going to a...          1\n",
       "\n",
       "[15649 rows x 2 columns]>"
      ]
     },
     "execution_count": 39,
     "metadata": {},
     "output_type": "execute_result"
    }
   ],
   "source": [
    "data.describe"
   ]
  },
  {
   "cell_type": "code",
   "execution_count": 40,
   "id": "6b09174f",
   "metadata": {},
   "outputs": [],
   "source": [
    "from transformers import RobertaTokenizer\n",
    "\n",
    "# base RoBERTa model\n",
    "tokenizer = RobertaTokenizer.from_pretrained(\"roberta-base\")\n"
   ]
  },
  {
   "cell_type": "code",
   "execution_count": 65,
   "id": "cc5df8da",
   "metadata": {},
   "outputs": [],
   "source": [
    "import torch\n",
    "\n",
    "prompts = df[\"prompt\"].tolist()\n",
    "labels = df[\"jailbreak\"].tolist()\n",
    "\n",
    "encodings = tokenizer(\n",
    "    prompts,\n",
    "    truncation=True,\n",
    "    padding=True,       \n",
    "    max_length=128,     \n",
    "    return_tensors=\"pt\" \n",
    ")\n",
    "\n",
    "input_ids = encodings[\"input_ids\"]\n",
    "attention_mask = encodings[\"attention_mask\"]\n",
    "labels = torch.tensor(labels)\n"
   ]
  },
  {
   "cell_type": "code",
   "execution_count": 66,
   "id": "5f88d7d7",
   "metadata": {},
   "outputs": [
    {
     "data": {
      "text/plain": [
       "torch.Size([15011, 128])"
      ]
     },
     "execution_count": 66,
     "metadata": {},
     "output_type": "execute_result"
    }
   ],
   "source": [
    "input_ids.shape"
   ]
  },
  {
   "cell_type": "markdown",
   "id": "e22a4fac",
   "metadata": {},
   "source": [
    "only 15,011 prompts were tokenized, not all 15,677. We lost 15677 - 15011 = 666 samples.\n",
    "Why did this happen?\n",
    "\n",
    "Possible reasons:\n",
    "\n",
    "Missing values (NaN or empty strings)\n",
    "\n",
    "The tokenizer skips empty inputs (\"\", \" \", or NaN).\n",
    "\n",
    "Pre-filtering\n",
    "\n",
    "If you did something like dropna() or filtered the DataFrame before tokenizing, you may have reduced rows.\n",
    "\n",
    "Label/Text misalignment\n",
    "\n",
    "If you built labels separately, you might have accidentally dropped some rows but not others.\n"
   ]
  },
  {
   "cell_type": "code",
   "execution_count": 67,
   "id": "1fbc08a1",
   "metadata": {},
   "outputs": [
    {
     "data": {
      "text/plain": [
       "torch.Size([15011, 128])"
      ]
     },
     "execution_count": 67,
     "metadata": {},
     "output_type": "execute_result"
    }
   ],
   "source": [
    "attention_mask.shape"
   ]
  },
  {
   "cell_type": "code",
   "execution_count": 68,
   "id": "40caab6c",
   "metadata": {},
   "outputs": [
    {
     "data": {
      "text/plain": [
       "torch.Size([15011])"
      ]
     },
     "execution_count": 68,
     "metadata": {},
     "output_type": "execute_result"
    }
   ],
   "source": [
    "labels.shape"
   ]
  },
  {
   "cell_type": "code",
   "execution_count": 69,
   "id": "7af55232",
   "metadata": {},
   "outputs": [],
   "source": [
    "from torch.utils.data import Dataset\n",
    "\n",
    "class JailbreakDataset(Dataset):\n",
    "    def __init__(self, encodings, labels):\n",
    "        self.encodings = encodings\n",
    "        self.labels = labels\n",
    "\n",
    "    def __len__(self):\n",
    "        return len(self.labels)\n",
    "\n",
    "    def __getitem__(self, idx):\n",
    "        item = {key: val[idx] for key, val in self.encodings.items()}\n",
    "        item[\"labels\"] = self.labels[idx]\n",
    "        return item\n",
    "\n",
    "dataset = JailbreakDataset(encodings, labels)\n"
   ]
  },
  {
   "cell_type": "code",
   "execution_count": 70,
   "id": "2fc735db",
   "metadata": {},
   "outputs": [
    {
     "data": {
      "text/plain": [
       "15011"
      ]
     },
     "execution_count": 70,
     "metadata": {},
     "output_type": "execute_result"
    }
   ],
   "source": [
    "dataset.__len__()"
   ]
  },
  {
   "cell_type": "code",
   "execution_count": 71,
   "id": "b60ef1a6",
   "metadata": {},
   "outputs": [
    {
     "name": "stdout",
     "output_type": "stream",
     "text": [
      "dict_keys(['input_ids', 'token_type_ids', 'attention_mask', 'labels'])\n",
      "torch.Size([128])\n",
      "torch.Size([128])\n",
      "tensor(0)\n"
     ]
    }
   ],
   "source": [
    "sample = dataset[0]\n",
    "print(sample.keys())          \n",
    "print(sample[\"input_ids\"].shape)\n",
    "print(sample[\"attention_mask\"].shape)\n",
    "print(sample[\"labels\"])\n"
   ]
  },
  {
   "cell_type": "code",
   "execution_count": 73,
   "id": "6f19a3df",
   "metadata": {},
   "outputs": [
    {
     "name": "stdout",
     "output_type": "stream",
     "text": [
      "12008 1501 1502\n"
     ]
    }
   ],
   "source": [
    "from torch.utils.data import random_split\n",
    "\n",
    "dataset_size = len(dataset)\n",
    "\n",
    "# 80% train, 10% val, 10% test\n",
    "train_size = int(0.8 * dataset_size)\n",
    "val_size   = int(0.1 * dataset_size)\n",
    "test_size  = dataset_size - train_size - val_size\n",
    "\n",
    "train_dataset, val_dataset, test_dataset = random_split(\n",
    "    dataset,\n",
    "    [train_size, val_size, test_size],\n",
    "    generator=torch.Generator().manual_seed(42) \n",
    ")\n",
    "\n",
    "print(len(train_dataset), len(val_dataset), len(test_dataset))\n"
   ]
  },
  {
   "cell_type": "code",
   "execution_count": 74,
   "id": "0fca8cbe",
   "metadata": {},
   "outputs": [],
   "source": [
    "from torch.utils.data import DataLoader\n",
    "\n",
    "train_loader = DataLoader(train_dataset, batch_size=16, shuffle=True)\n",
    "val_loader   = DataLoader(val_dataset, batch_size=16, shuffle=False)\n",
    "test_loader  = DataLoader(test_dataset, batch_size=16, shuffle=False)\n"
   ]
  },
  {
   "cell_type": "markdown",
   "id": "10155d09",
   "metadata": {},
   "source": [
    "What DataLoader does for you\n",
    "\n",
    "DataLoader wraps a Dataset and handles:\n",
    "\n",
    "Batching → groups samples into tensors of shape [batch_size, seq_len].\n",
    "\n",
    "Instead of 1×256 per loop, you get 16×256.\n",
    "\n",
    "Shuffling → ensures randomization each epoch (important for SGD).\n",
    "\n",
    "Parallel loading → can use multiple workers (num_workers>0) for faster data feeding.\n",
    "\n",
    "Pin memory → faster GPU transfers if enabled (pin_memory=True)."
   ]
  },
  {
   "cell_type": "code",
   "execution_count": 64,
   "id": "3c04b520",
   "metadata": {},
   "outputs": [
    {
     "name": "stderr",
     "output_type": "stream",
     "text": [
      "Xet Storage is enabled for this repo, but the 'hf_xet' package is not installed. Falling back to regular HTTP download. For better performance, install the package with: `pip install huggingface_hub[hf_xet]` or `pip install hf_xet`\n",
      "Some weights of BertForSequenceClassification were not initialized from the model checkpoint at prajjwal1/bert-tiny and are newly initialized: ['classifier.bias', 'classifier.weight']\n",
      "You should probably TRAIN this model on a down-stream task to be able to use it for predictions and inference.\n"
     ]
    },
    {
     "name": "stderr",
     "output_type": "stream",
     "text": [
      "Xet Storage is enabled for this repo, but the 'hf_xet' package is not installed. Falling back to regular HTTP download. For better performance, install the package with: `pip install huggingface_hub[hf_xet]` or `pip install hf_xet`\n"
     ]
    }
   ],
   "source": [
    "from transformers import AutoTokenizer, AutoModelForSequenceClassification\n",
    "\n",
    "tokenizer = AutoTokenizer.from_pretrained(\"prajjwal1/bert-tiny\")\n",
    "model = AutoModelForSequenceClassification.from_pretrained(\"prajjwal1/bert-tiny\", num_labels=2)\n"
   ]
  },
  {
   "cell_type": "code",
   "execution_count": 76,
   "id": "32fb29b2",
   "metadata": {},
   "outputs": [
    {
     "data": {
      "text/plain": [
       "BertForSequenceClassification(\n",
       "  (bert): BertModel(\n",
       "    (embeddings): BertEmbeddings(\n",
       "      (word_embeddings): Embedding(30522, 128, padding_idx=0)\n",
       "      (position_embeddings): Embedding(512, 128)\n",
       "      (token_type_embeddings): Embedding(2, 128)\n",
       "      (LayerNorm): LayerNorm((128,), eps=1e-12, elementwise_affine=True)\n",
       "      (dropout): Dropout(p=0.1, inplace=False)\n",
       "    )\n",
       "    (encoder): BertEncoder(\n",
       "      (layer): ModuleList(\n",
       "        (0-1): 2 x BertLayer(\n",
       "          (attention): BertAttention(\n",
       "            (self): BertSdpaSelfAttention(\n",
       "              (query): Linear(in_features=128, out_features=128, bias=True)\n",
       "              (key): Linear(in_features=128, out_features=128, bias=True)\n",
       "              (value): Linear(in_features=128, out_features=128, bias=True)\n",
       "              (dropout): Dropout(p=0.1, inplace=False)\n",
       "            )\n",
       "            (output): BertSelfOutput(\n",
       "              (dense): Linear(in_features=128, out_features=128, bias=True)\n",
       "              (LayerNorm): LayerNorm((128,), eps=1e-12, elementwise_affine=True)\n",
       "              (dropout): Dropout(p=0.1, inplace=False)\n",
       "            )\n",
       "          )\n",
       "          (intermediate): BertIntermediate(\n",
       "            (dense): Linear(in_features=128, out_features=512, bias=True)\n",
       "            (intermediate_act_fn): GELUActivation()\n",
       "          )\n",
       "          (output): BertOutput(\n",
       "            (dense): Linear(in_features=512, out_features=128, bias=True)\n",
       "            (LayerNorm): LayerNorm((128,), eps=1e-12, elementwise_affine=True)\n",
       "            (dropout): Dropout(p=0.1, inplace=False)\n",
       "          )\n",
       "        )\n",
       "      )\n",
       "    )\n",
       "    (pooler): BertPooler(\n",
       "      (dense): Linear(in_features=128, out_features=128, bias=True)\n",
       "      (activation): Tanh()\n",
       "    )\n",
       "  )\n",
       "  (dropout): Dropout(p=0.1, inplace=False)\n",
       "  (classifier): Linear(in_features=128, out_features=2, bias=True)\n",
       ")"
      ]
     },
     "execution_count": 76,
     "metadata": {},
     "output_type": "execute_result"
    }
   ],
   "source": [
    "import torch\n",
    "\n",
    "device = torch.device(\"cuda\" if torch.cuda.is_available() else \"cpu\")\n",
    "model.to(device)\n"
   ]
  },
  {
   "cell_type": "code",
   "execution_count": 75,
   "id": "ea4ca475",
   "metadata": {},
   "outputs": [],
   "source": [
    "from torch.optim import AdamW\n",
    "\n",
    "optimizer = AdamW(model.parameters(), lr=5e-5)\n"
   ]
  },
  {
   "cell_type": "code",
   "execution_count": 78,
   "id": "a8901042",
   "metadata": {},
   "outputs": [
    {
     "name": "stderr",
     "output_type": "stream",
     "text": [
      "Epoch 0: 100%|██████████| 751/751 [04:40<00:00,  2.67it/s, loss=0.00533]\n"
     ]
    },
    {
     "name": "stdout",
     "output_type": "stream",
     "text": [
      "Epoch 0 - Average Training Loss: 0.0415\n",
      "Epoch 0 - Validation Loss: 0.0052, Accuracy: 1.0000\n"
     ]
    },
    {
     "name": "stderr",
     "output_type": "stream",
     "text": [
      "Epoch 1: 100%|██████████| 751/751 [05:32<00:00,  2.26it/s, loss=0.00158]\n"
     ]
    },
    {
     "name": "stdout",
     "output_type": "stream",
     "text": [
      "Epoch 1 - Average Training Loss: 0.0031\n",
      "Epoch 1 - Validation Loss: 0.0017, Accuracy: 1.0000\n"
     ]
    },
    {
     "name": "stderr",
     "output_type": "stream",
     "text": [
      "Epoch 2: 100%|██████████| 751/751 [18:26<00:00,  1.47s/it, loss=0.000922]   \n"
     ]
    },
    {
     "name": "stdout",
     "output_type": "stream",
     "text": [
      "Epoch 2 - Average Training Loss: 0.0013\n",
      "Epoch 2 - Validation Loss: 0.0008, Accuracy: 1.0000\n"
     ]
    }
   ],
   "source": [
    "from tqdm import tqdm\n",
    "num_epochs = 3\n",
    "torch.set_num_threads(4)  # optimize CPU usage\n",
    "\n",
    "for epoch in range(num_epochs):\n",
    "    # ----- Training -----\n",
    "    model.train()\n",
    "    loop = tqdm(train_loader, leave=True)\n",
    "    train_loss_total = 0\n",
    "\n",
    "    for batch in loop:\n",
    "        # Move tensors to device\n",
    "        input_ids = batch[\"input_ids\"].to(device)\n",
    "        attention_mask = batch[\"attention_mask\"].to(device)\n",
    "        labels = batch[\"labels\"].to(device)\n",
    "\n",
    "        # Forward pass\n",
    "        outputs = model(input_ids, attention_mask=attention_mask, labels=labels)\n",
    "        loss = outputs.loss\n",
    "        logits = outputs.logits\n",
    "\n",
    "        # Backward pass\n",
    "        optimizer.zero_grad()\n",
    "        loss.backward()\n",
    "        optimizer.step()\n",
    "\n",
    "        # Update progress bar\n",
    "        train_loss_total += loss.item()\n",
    "        loop.set_description(f\"Epoch {epoch}\")\n",
    "        loop.set_postfix(loss=loss.item())\n",
    "\n",
    "    avg_train_loss = train_loss_total / len(train_loader)\n",
    "    print(f\"Epoch {epoch} - Average Training Loss: {avg_train_loss:.4f}\")\n",
    "\n",
    "    # ----- Validation -----\n",
    "    model.eval()\n",
    "    val_loss_total = 0\n",
    "    correct = 0\n",
    "    with torch.no_grad():\n",
    "        for batch in val_loader:\n",
    "            input_ids = batch[\"input_ids\"].to(device)\n",
    "            attention_mask = batch[\"attention_mask\"].to(device)\n",
    "            labels = batch[\"labels\"].to(device)\n",
    "\n",
    "            outputs = model(input_ids, attention_mask=attention_mask, labels=labels)\n",
    "            val_loss_total += outputs.loss.item()\n",
    "\n",
    "            preds = torch.argmax(outputs.logits, dim=1)\n",
    "            correct += (preds == labels).sum().item()\n",
    "\n",
    "    avg_val_loss = val_loss_total / len(val_loader)\n",
    "    val_acc = correct / len(val_dataset)\n",
    "    print(f\"Epoch {epoch} - Validation Loss: {avg_val_loss:.4f}, Accuracy: {val_acc:.4f}\")\n",
    "\n",
    "    # ----- Checkpoint -----\n",
    "   # torch.save(model.state_dict(), f\"model_epoch_{epoch}.pt\")\n"
   ]
  },
  {
   "cell_type": "markdown",
   "id": "1ccc81de",
   "metadata": {},
   "source": []
  },
  {
   "cell_type": "markdown",
   "id": "24683253",
   "metadata": {},
   "source": [
    "1. Loop over epochs: for epoch in range(num_epochs)\n",
    "What it does: Repeats training over the entire dataset for the specified number of epochs.\n",
    "Why: Multiple passes allow the model to learn patterns in the data and converge.\n",
    "How to play with it: Increase the number of epochs if underfitting. Decrease if overfitting. You can also implement early stopping based on validation loss to automatically stop training when performance stops improving.\n",
    "\n",
    "2. Set model to training mode: model.train()\n",
    "What it does: Activates training-specific behaviors such as Dropout and BatchNorm updates.\n",
    "Why: Ensures layers behave correctly during training.\n",
    "How to play with it: Always call model.train() before training. Use model.eval() when running validation or testing.\n",
    "\n",
    "3. Wrap DataLoader with tqdm: loop = tqdm(train_loader, leave=True)\n",
    "What it does: Adds a live progress bar for batches.\n",
    "Why: Provides a visual update of training progress and batch loss.\n",
    "How to play with it: leave=True keeps the progress bar after the epoch ends. You can also log additional metrics like batch accuracy using set_postfix.\n",
    "\n",
    "4. Loop over batches: for batch in loop\n",
    "What it does: Iterates over mini-batches of the dataset.\n",
    "Why: Mini-batch training is more memory-efficient and stabilizes gradient updates.\n",
    "How to play with it: Adjust batch_size in the DataLoader to fit your CPU memory. Larger batches are faster but need more memory; smaller batches are slower but use less memory and produce noisier gradients.\n",
    "\n",
    "5. Move tensors to device: input_ids, attention_mask, and labels are moved to the device\n",
    "What it does: Moves data to CPU or GPU so it matches the model's device.\n",
    "Why: Model and data must reside on the same device to perform computations.\n",
    "How to play with it: Use torch.device(\"cuda\") if a GPU is available, otherwise \"cpu\". You can also optimize CPU threads with torch.set_num_threads().\n",
    "\n",
    "6. Forward pass: outputs = model(input_ids, attention_mask=attention_mask, labels=labels), loss = outputs.loss, logits = outputs.logits\n",
    "What it does: Feeds input through the model to get predictions and compute loss automatically if labels are provided.\n",
    "Why: Forward pass calculates the network’s predictions and the loss needed for learning.\n",
    "How to play with it: You can compute custom loss manually using torch.nn.CrossEntropyLoss if needed.\n",
    "\n",
    "7. Zero gradients: optimizer.zero_grad()\n",
    "What it does: Resets gradients from the previous batch.\n",
    "Why: PyTorch accumulates gradients by default, so forgetting this step would mix gradients across batches.\n",
    "How to play with it: Skip if you are using gradient accumulation over multiple batches.\n",
    "\n",
    "8. Backward pass: loss.backward()\n",
    "What it does: Computes gradients of all model parameters with respect to the loss.\n",
    "Why: Gradients are needed for the optimizer to update weights.\n",
    "How to play with it: Use loss.backward(retain_graph=True) if multiple backward passes are needed. Optionally, clip gradients to prevent exploding gradients using torch.nn.utils.clip_grad_norm_.\n",
    "\n",
    "9. Optimizer step: optimizer.step()\n",
    "What it does: Updates model weights based on computed gradients.\n",
    "Why: This is how the model actually learns.\n",
    "How to play with it: Experiment with different optimizers such as AdamW, SGD, or RMSprop. Adjust learning rate to control convergence speed.\n",
    "\n",
    "10. Update progress bar: loop.set_description(f\"Epoch {epoch}\") and loop.set_postfix(loss=loss.item())\n",
    "What it does: Shows the current epoch and batch loss in the progress bar.\n",
    "Why: Provides quick visual feedback of training progress.\n",
    "How to play with it: You can add additional metrics like accuracy or validation loss using set_postfix to monitor performance.\n",
    "\n",
    "11. Validation loop: model.eval() and iterate over val_loader with torch.no_grad()\n",
    "What it does: Evaluates model performance on the validation set without updating weights.\n",
    "Why: Ensures that evaluation is accurate and not affected by training layers like Dropout.\n",
    "How to play with it: Compute average validation loss and accuracy to monitor overfitting or underfitting. Call model.train() again after validation to resume training.\n",
    "\n",
    "12. Checkpointing: torch.save(model.state_dict(), f\"model_epoch_{epoch}.pt\")\n",
    "What it does: Saves the model’s weights after each epoch.\n",
    "Why: Allows you to resume training or use the model later without retraining.\n",
    "How to play with it: Optional. You can remove this step if you do not want to save intermediate models."
   ]
  },
  {
   "cell_type": "code",
   "execution_count": 79,
   "id": "bd788c92",
   "metadata": {},
   "outputs": [],
   "source": [
    "# Save the model (weights + configuration)\n",
    "model.save_pretrained(\"bert_tiny_model\")\n"
   ]
  },
  {
   "cell_type": "code",
   "execution_count": 80,
   "id": "39f0d2c6",
   "metadata": {},
   "outputs": [
    {
     "data": {
      "text/plain": [
       "('bert_tiny_model\\\\tokenizer_config.json',\n",
       " 'bert_tiny_model\\\\special_tokens_map.json',\n",
       " 'bert_tiny_model\\\\vocab.txt',\n",
       " 'bert_tiny_model\\\\added_tokens.json',\n",
       " 'bert_tiny_model\\\\tokenizer.json')"
      ]
     },
     "execution_count": 80,
     "metadata": {},
     "output_type": "execute_result"
    }
   ],
   "source": [
    "tokenizer.save_pretrained(\"bert_tiny_model\")\n"
   ]
  },
  {
   "cell_type": "code",
   "execution_count": 84,
   "id": "f1f9092d",
   "metadata": {},
   "outputs": [],
   "source": [
    "import torch\n",
    "torch.save(train_dataset, \"train_dataset.pt\")\n",
    "torch.save(val_dataset, \"val_dataset.pt\")\n",
    "torch.save(test_dataset, \"test_dataset.pt\")\n"
   ]
  },
  {
   "cell_type": "code",
   "execution_count": 85,
   "id": "6fa3e299",
   "metadata": {},
   "outputs": [],
   "source": [
    "import pickle\n",
    "with open(\"tokenized_data.pkl\", \"wb\") as f:\n",
    "    pickle.dump({\"input_ids\": input_ids, \"attention_mask\": attention_mask, \"labels\": labels}, f)\n"
   ]
  },
  {
   "cell_type": "code",
   "execution_count": null,
   "id": "85d5f906",
   "metadata": {},
   "outputs": [],
   "source": []
  }
 ],
 "metadata": {
  "kernelspec": {
   "display_name": "llm_env",
   "language": "python",
   "name": "python3"
  },
  "language_info": {
   "codemirror_mode": {
    "name": "ipython",
    "version": 3
   },
   "file_extension": ".py",
   "mimetype": "text/x-python",
   "name": "python",
   "nbconvert_exporter": "python",
   "pygments_lexer": "ipython3",
   "version": "3.13.7"
  }
 },
 "nbformat": 4,
 "nbformat_minor": 5
}
